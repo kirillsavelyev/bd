{
 "cells": [
  {
   "cell_type": "markdown",
   "metadata": {
    "deletable": true,
    "editable": true
   },
   "source": [
    "## Top 10 Movies"
   ]
  },
  {
   "cell_type": "markdown",
   "metadata": {
    "deletable": true,
    "editable": true
   },
   "source": [
    "#### Import packages"
   ]
  },
  {
   "cell_type": "code",
   "execution_count": 56,
   "metadata": {
    "collapsed": true,
    "deletable": true,
    "editable": true
   },
   "outputs": [],
   "source": [
    "import os\n",
    "import sys\n",
    "import json"
   ]
  },
  {
   "cell_type": "markdown",
   "metadata": {
    "deletable": true,
    "editable": true
   },
   "source": [
    "#### Connecting to Spark"
   ]
  },
  {
   "cell_type": "code",
   "execution_count": 57,
   "metadata": {
    "collapsed": false,
    "deletable": true,
    "editable": true
   },
   "outputs": [
    {
     "name": "stdout",
     "output_type": "stream",
     "text": [
      "Welcome to\n",
      "      ____              __\n",
      "     / __/__  ___ _____/ /__\n",
      "    _\\ \\/ _ \\/ _ `/ __/  '_/\n",
      "   /__ / .__/\\_,_/_/ /_/\\_\\   version 2.2.0\n",
      "      /_/\n",
      "\n",
      "Using Python version 2.7.6 (default, Oct 26 2016 20:30:19)\n",
      "SparkSession available as 'spark'.\n"
     ]
    }
   ],
   "source": [
    "os.environ[\"PYSPARK_SUBMIT_ARGS\"]='--packages com.databricks:spark-csv_2.10:1.2.0 pyspark-shell'\n",
    "spark_home = os.environ.get('SPARK_HOME', None)\n",
    "sys.path.insert(0, spark_home + \"/python\")\n",
    "execfile(os.path.join(spark_home, 'python/pyspark/shell.py'))"
   ]
  },
  {
   "cell_type": "markdown",
   "metadata": {
    "deletable": true,
    "editable": true
   },
   "source": [
    "#### Converting file to Resilient Distributed Dataset (RDD)"
   ]
  },
  {
   "cell_type": "code",
   "execution_count": 58,
   "metadata": {
    "collapsed": false,
    "deletable": true,
    "editable": true
   },
   "outputs": [
    {
     "data": {
      "text/plain": [
       "[u'196\\t242\\t3\\t881250949']"
      ]
     },
     "execution_count": 58,
     "metadata": {},
     "output_type": "execute_result"
    }
   ],
   "source": [
    "rdd = sc.textFile('ml-100k/u.data') # http://files.grouplens.org/datasets/movielens/ml-100k.zip\n",
    "\n",
    "rdd.take(1)"
   ]
  },
  {
   "cell_type": "markdown",
   "metadata": {
    "deletable": true,
    "editable": true
   },
   "source": [
    "#### Strings to int"
   ]
  },
  {
   "cell_type": "code",
   "execution_count": 59,
   "metadata": {
    "collapsed": false,
    "deletable": true,
    "editable": true
   },
   "outputs": [
    {
     "data": {
      "text/plain": [
       "[[196, 242, 3, 881250949]]"
      ]
     },
     "execution_count": 59,
     "metadata": {},
     "output_type": "execute_result"
    }
   ],
   "source": [
    "rdd = (\n",
    "    rdd\n",
    "    .map(lambda x: map(int, x.split(\"\\t\")))\n",
    ")\n",
    "\n",
    "rdd.take(1)"
   ]
  },
  {
   "cell_type": "markdown",
   "metadata": {
    "deletable": true,
    "editable": true
   },
   "source": [
    "### 1. Number of ratings for each movie"
   ]
  },
  {
   "cell_type": "code",
   "execution_count": 60,
   "metadata": {
    "collapsed": false,
    "deletable": true,
    "editable": true
   },
   "outputs": [
    {
     "data": {
      "text/plain": [
       "[(50, 583),\n",
       " (258, 509),\n",
       " (100, 508),\n",
       " (181, 507),\n",
       " (294, 485),\n",
       " (286, 481),\n",
       " (288, 478),\n",
       " (1, 452),\n",
       " (300, 431),\n",
       " (121, 429)]"
      ]
     },
     "execution_count": 60,
     "metadata": {},
     "output_type": "execute_result"
    }
   ],
   "source": [
    "(\n",
    "    rdd\n",
    "    .map(lambda k: (k[1],1))\n",
    "    .reduceByKey(lambda a,b: a+b)\n",
    "    .sortBy(lambda x: -x[1])\n",
    "    .take(10)\n",
    ")"
   ]
  },
  {
   "cell_type": "code",
   "execution_count": 61,
   "metadata": {
    "collapsed": false,
    "deletable": true,
    "editable": true,
    "scrolled": true
   },
   "outputs": [
    {
     "data": {
      "text/plain": [
       "[(1, 452),\n",
       " (2, 131),\n",
       " (3, 90),\n",
       " (4, 209),\n",
       " (5, 86),\n",
       " (6, 26),\n",
       " (7, 392),\n",
       " (8, 219),\n",
       " (9, 299),\n",
       " (10, 89)]"
      ]
     },
     "execution_count": 61,
     "metadata": {},
     "output_type": "execute_result"
    }
   ],
   "source": [
    "rates = (\n",
    "    rdd\n",
    "    .map(lambda k: (k[1],1))\n",
    "    .reduceByKey(lambda a,b: a+b)\n",
    "    .sortBy(lambda x: x[0])\n",
    ")\n",
    "\n",
    "rates.take(10)"
   ]
  },
  {
   "cell_type": "code",
   "execution_count": 62,
   "metadata": {
    "collapsed": false,
    "deletable": true,
    "editable": true
   },
   "outputs": [
    {
     "data": {
      "text/plain": [
       "[50, 258, 100, 181, 294, 286, 288, 1, 300, 121]"
      ]
     },
     "execution_count": 62,
     "metadata": {},
     "output_type": "execute_result"
    }
   ],
   "source": [
    "top10_rates = (\n",
    "    rates\n",
    "    .sortBy(lambda x: -x[1])\n",
    "    .map(lambda x: x[0])\n",
    "    .take(10)\n",
    ")\n",
    "\n",
    "top10_rates"
   ]
  },
  {
   "cell_type": "markdown",
   "metadata": {
    "deletable": true,
    "editable": true
   },
   "source": [
    "### 2. Average rating of the movie\n",
    "#### Sum of  ratings of the movie"
   ]
  },
  {
   "cell_type": "code",
   "execution_count": 63,
   "metadata": {
    "collapsed": false,
    "deletable": true,
    "editable": true
   },
   "outputs": [
    {
     "data": {
      "text/plain": [
       "[(1, 1753), (2, 420), (3, 273)]"
      ]
     },
     "execution_count": 63,
     "metadata": {},
     "output_type": "execute_result"
    }
   ],
   "source": [
    "rtng_sum = (\n",
    "    rdd\n",
    "    .map(lambda k: (k[1],k[2]))\n",
    "    .reduceByKey(lambda a,b: a+b)\n",
    "    .sortBy(lambda x: x[0])    \n",
    ")\n",
    "\n",
    "rtng_sum.take(3)"
   ]
  },
  {
   "cell_type": "markdown",
   "metadata": {
    "deletable": true,
    "editable": true
   },
   "source": [
    "#### Number of people who rated"
   ]
  },
  {
   "cell_type": "code",
   "execution_count": 64,
   "metadata": {
    "collapsed": false,
    "deletable": true,
    "editable": true
   },
   "outputs": [
    {
     "data": {
      "text/plain": [
       "[(1, 452), (2, 131), (3, 90)]"
      ]
     },
     "execution_count": 64,
     "metadata": {},
     "output_type": "execute_result"
    }
   ],
   "source": [
    "num_of_people = (\n",
    "    rdd\n",
    "    .map(lambda k: (k[1],1))\n",
    "    .reduceByKey(lambda a,b: a+b)\n",
    "    .sortBy(lambda x: x[0])\n",
    ")\n",
    "\n",
    "num_of_people.take(3)"
   ]
  },
  {
   "cell_type": "markdown",
   "metadata": {
    "deletable": true,
    "editable": true
   },
   "source": [
    "#### Average rating"
   ]
  },
  {
   "cell_type": "code",
   "execution_count": 65,
   "metadata": {
    "collapsed": false,
    "deletable": true,
    "editable": true
   },
   "outputs": [
    {
     "data": {
      "text/plain": [
       "[[814, 5.0],\n",
       " [1122, 5.0],\n",
       " [1189, 5.0],\n",
       " [1201, 5.0],\n",
       " [1293, 5.0],\n",
       " [1467, 5.0],\n",
       " [1500, 5.0],\n",
       " [1536, 5.0],\n",
       " [1599, 5.0],\n",
       " [1653, 5.0]]"
      ]
     },
     "execution_count": 65,
     "metadata": {},
     "output_type": "execute_result"
    }
   ],
   "source": [
    "top10_avg_unsort = (\n",
    "    rtng_sum.zip(num_of_people) # merge two rdds\n",
    "    .map(lambda x: [x[0][0], float(x[0][1]) / x[1][1]]) # rating sum / number of peoples\n",
    "    .sortBy(lambda x: -x[1])\n",
    "#     .map(lambda x: x[0])\n",
    "    .take(10)\n",
    ")\n",
    "\n",
    "top10_avg_unsort"
   ]
  },
  {
   "cell_type": "code",
   "execution_count": 66,
   "metadata": {
    "collapsed": false,
    "deletable": true,
    "editable": true
   },
   "outputs": [
    {
     "data": {
      "text/plain": [
       "(814, 1122, 1189, 1201, 1293, 1467, 1500, 1536, 1599, 1653)"
      ]
     },
     "execution_count": 66,
     "metadata": {},
     "output_type": "execute_result"
    }
   ],
   "source": [
    "top10_avg_unsort_ids = zip(*top10_avg_unsort)[0] \n",
    "# >>> S\n",
    "# [[1, 2], [3, 4], [5, 6]]\n",
    "# >>> zip(*S)\n",
    "# [(1, 3, 5), (2, 4, 6)]\n",
    "\n",
    "top10_avg_unsort_ids"
   ]
  },
  {
   "cell_type": "markdown",
   "metadata": {
    "deletable": true,
    "editable": true
   },
   "source": [
    "#### Average rating sorted by name of movie"
   ]
  },
  {
   "cell_type": "code",
   "execution_count": 67,
   "metadata": {
    "collapsed": false,
    "deletable": true,
    "editable": true
   },
   "outputs": [
    {
     "data": {
      "text/plain": [
       "[1536, 1653, 814, 1201, 1189, 1467, 1500, 1599, 1293, 1122]"
      ]
     },
     "execution_count": 67,
     "metadata": {},
     "output_type": "execute_result"
    }
   ],
   "source": [
    "u_item = sc.textFile(\"ml-100k/u.item\") #read file\n",
    "\n",
    "top10_average = (\n",
    "    u_item\n",
    "    .map(lambda x: x.split('|'))\n",
    "    .map(lambda x: (int(x[0]), x[1])) # taking id and name of movie\n",
    "    .filter(lambda x: x[0] in top10_avg_unsort_ids)\n",
    "    .sortBy(lambda x: x[1])\n",
    "    .map(lambda x: x[0])\n",
    "    .take(10)\n",
    ")\n",
    "\n",
    "top10_average"
   ]
  },
  {
   "cell_type": "markdown",
   "metadata": {
    "deletable": true,
    "editable": true
   },
   "source": [
    "### 3. Number of people who rated movie more than 4"
   ]
  },
  {
   "cell_type": "code",
   "execution_count": 68,
   "metadata": {
    "collapsed": false,
    "deletable": true,
    "editable": true
   },
   "outputs": [
    {
     "data": {
      "text/plain": [
       "[(1, 321),\n",
       " (2, 51),\n",
       " (3, 34),\n",
       " (4, 122),\n",
       " (5, 39),\n",
       " (6, 15),\n",
       " (7, 263),\n",
       " (8, 155),\n",
       " (9, 211),\n",
       " (10, 59)]"
      ]
     },
     "execution_count": 68,
     "metadata": {},
     "output_type": "execute_result"
    }
   ],
   "source": [
    "rtng_more_4 = (\n",
    "    rdd\n",
    "    .map(lambda x: (x[1], 1) if x[2]>3 else (x[1], 0))\n",
    "    .reduceByKey(lambda a, b: a + b)\n",
    "    .sortBy(lambda x: x[0])\n",
    ")\n",
    "\n",
    "rtng_more_4.take(10)"
   ]
  },
  {
   "cell_type": "markdown",
   "metadata": {
    "deletable": true,
    "editable": true
   },
   "source": [
    "### 4. Proportion of people who rated the movie positively"
   ]
  },
  {
   "cell_type": "code",
   "execution_count": 69,
   "metadata": {
    "collapsed": false,
    "deletable": true,
    "editable": true
   },
   "outputs": [
    {
     "data": {
      "text/plain": [
       "[(1, 0.7101769911504425),\n",
       " (2, 0.3893129770992366),\n",
       " (3, 0.37777777777777777),\n",
       " (4, 0.583732057416268),\n",
       " (5, 0.45348837209302323),\n",
       " (6, 0.5769230769230769),\n",
       " (7, 0.6709183673469388),\n",
       " (8, 0.7077625570776256),\n",
       " (9, 0.705685618729097),\n",
       " (10, 0.6629213483146067)]"
      ]
     },
     "execution_count": 69,
     "metadata": {},
     "output_type": "execute_result"
    }
   ],
   "source": [
    "prop_of_pozitive = (\n",
    "    rtng_more_4.zip(rates) # merge two rdds\n",
    "    .map(lambda x: (x[0][0], float(x[0][1]) / x[1][1])) # ratings > 3 / number of rates\n",
    ")\n",
    "\n",
    "prop_of_pozitive.take(10)"
   ]
  },
  {
   "cell_type": "markdown",
   "metadata": {
    "deletable": true,
    "editable": true
   },
   "source": [
    "### 5. Total average rating"
   ]
  },
  {
   "cell_type": "markdown",
   "metadata": {
    "deletable": true,
    "editable": true
   },
   "source": [
    "#### Sum of all ratings"
   ]
  },
  {
   "cell_type": "code",
   "execution_count": 70,
   "metadata": {
    "collapsed": false,
    "deletable": true,
    "editable": true
   },
   "outputs": [
    {
     "data": {
      "text/plain": [
       "352986"
      ]
     },
     "execution_count": 70,
     "metadata": {},
     "output_type": "execute_result"
    }
   ],
   "source": [
    "sum_all_rts = rdd.map(lambda x: x[2]).reduce(lambda a, b: a + b)\n",
    "\n",
    "sum_all_rts"
   ]
  },
  {
   "cell_type": "markdown",
   "metadata": {
    "deletable": true,
    "editable": true
   },
   "source": [
    "#### Number of ratings of all movies"
   ]
  },
  {
   "cell_type": "code",
   "execution_count": 71,
   "metadata": {
    "collapsed": false,
    "deletable": true,
    "editable": true
   },
   "outputs": [
    {
     "data": {
      "text/plain": [
       "100000"
      ]
     },
     "execution_count": 71,
     "metadata": {},
     "output_type": "execute_result"
    }
   ],
   "source": [
    "num_all_rts = rdd.count()\n",
    "\n",
    "num_all_rts"
   ]
  },
  {
   "cell_type": "markdown",
   "metadata": {
    "deletable": true,
    "editable": true
   },
   "source": [
    "#### Total average rating"
   ]
  },
  {
   "cell_type": "code",
   "execution_count": 72,
   "metadata": {
    "collapsed": false,
    "deletable": true,
    "editable": true
   },
   "outputs": [
    {
     "data": {
      "text/plain": [
       "3.52986"
      ]
     },
     "execution_count": 72,
     "metadata": {},
     "output_type": "execute_result"
    }
   ],
   "source": [
    "ttl_avg_rtng = mu = float(sum_all_rts) / num_all_rts\n",
    "\n",
    "ttl_avg_rtng"
   ]
  },
  {
   "cell_type": "markdown",
   "metadata": {
    "deletable": true,
    "editable": true
   },
   "source": [
    "### 6. Corrected Estimation"
   ]
  },
  {
   "cell_type": "code",
   "execution_count": 73,
   "metadata": {
    "collapsed": true,
    "deletable": true,
    "editable": true
   },
   "outputs": [],
   "source": [
    "k = 15"
   ]
  },
  {
   "cell_type": "code",
   "execution_count": 74,
   "metadata": {
    "collapsed": false,
    "deletable": true,
    "editable": true
   },
   "outputs": [
    {
     "data": {
      "text/plain": [
       "[318, 483, 64, 408, 169, 12, 50, 603, 114, 98]"
      ]
     },
     "execution_count": 74,
     "metadata": {},
     "output_type": "execute_result"
    }
   ],
   "source": [
    "top10_rating = (\n",
    "    rtng_sum.zip(num_of_people)\n",
    "    .map(lambda x: [x[0][0], (float(x[0][1]) + k * mu) / (x[1][1] + k)])\n",
    "    .sortBy(lambda x: -x[1])\n",
    "    .map(lambda x: x[0])\n",
    "    .take(10)\n",
    ")\n",
    "\n",
    "top10_rating"
   ]
  },
  {
   "cell_type": "markdown",
   "metadata": {
    "deletable": true,
    "editable": true
   },
   "source": [
    "### 7. Wilson score interval"
   ]
  },
  {
   "cell_type": "code",
   "execution_count": 75,
   "metadata": {
    "collapsed": true,
    "deletable": true,
    "editable": true
   },
   "outputs": [],
   "source": [
    "from math import sqrt"
   ]
  },
  {
   "cell_type": "code",
   "execution_count": 76,
   "metadata": {
    "collapsed": true,
    "deletable": true,
    "editable": true
   },
   "outputs": [],
   "source": [
    "z, prcnt = 3.291, 99.90\n",
    "\n",
    "def wilson(n, p):\n",
    "    return (p + z*z/(2*n) - z * sqrt((p*(1-p)+z*z/(4*n))/n))/(1+z*z/n)"
   ]
  },
  {
   "cell_type": "code",
   "execution_count": 77,
   "metadata": {
    "collapsed": false
   },
   "outputs": [
    {
     "data": {
      "text/plain": [
       "0.625062387412852"
      ]
     },
     "execution_count": 77,
     "metadata": {},
     "output_type": "execute_result"
    }
   ],
   "source": [
    "wilson(452, 0.7) # testing"
   ]
  },
  {
   "cell_type": "code",
   "execution_count": 78,
   "metadata": {
    "collapsed": false
   },
   "outputs": [
    {
     "data": {
      "text/plain": [
       "[(64, 0.8270766587313791), (98, 0.8177122414044271), (318, 0.8152788845229866)]"
      ]
     },
     "execution_count": 78,
     "metadata": {},
     "output_type": "execute_result"
    }
   ],
   "source": [
    "wilson_lower = (\n",
    "    rates.zip(prop_of_pozitive)\n",
    "    .map(lambda x: (x[0][0], wilson(x[0][1], x[1][1])))\n",
    "    .sortBy(lambda x: -x[1])\n",
    ")\n",
    "\n",
    "wilson_lower.take(3)"
   ]
  },
  {
   "cell_type": "code",
   "execution_count": 79,
   "metadata": {
    "collapsed": false,
    "deletable": true,
    "editable": true
   },
   "outputs": [
    {
     "data": {
      "text/plain": [
       "[64, 98, 318, 479, 50, 483, 603, 427, 357, 12]"
      ]
     },
     "execution_count": 79,
     "metadata": {},
     "output_type": "execute_result"
    }
   ],
   "source": [
    "top10_lower = wilson_lower.map(lambda x: x[0]).take(10)\n",
    "\n",
    "top10_lower"
   ]
  },
  {
   "cell_type": "markdown",
   "metadata": {
    "deletable": true,
    "editable": true
   },
   "source": [
    "#### Creating json-file with results"
   ]
  },
  {
   "cell_type": "code",
   "execution_count": 80,
   "metadata": {
    "collapsed": false,
    "deletable": true,
    "editable": true
   },
   "outputs": [],
   "source": [
    "with open('lab06s.json', 'w') as file:\n",
    "    json.dump({'top10_rates': top10_rates, \n",
    "               'top10_average': top10_average, \n",
    "               'top10_rating': top10_rating, \n",
    "               'top10_lower': top10_lower}, file)"
   ]
  }
 ],
 "metadata": {
  "kernelspec": {
   "display_name": "Python 2",
   "language": "python",
   "name": "python2"
  },
  "language_info": {
   "codemirror_mode": {
    "name": "ipython",
    "version": 2
   },
   "file_extension": ".py",
   "mimetype": "text/x-python",
   "name": "python",
   "nbconvert_exporter": "python",
   "pygments_lexer": "ipython2",
   "version": "2.7.6"
  }
 },
 "nbformat": 4,
 "nbformat_minor": 2
}
