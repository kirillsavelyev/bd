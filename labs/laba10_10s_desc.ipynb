{
 "cells": [
  {
   "cell_type": "markdown",
   "metadata": {},
   "source": [
    "## Лаба 10. Построить рекомендательную систему видеоконтента с implicit feedback\n",
    "\n",
    "### Задача\n",
    "\n",
    "В вашем распоряжении имеется уже предобработанный и очищенный датасет с фактами\n",
    "покупок абонентами телепередач от компании E-Contenta. По доступным вам данным нужно предсказать вероятность покупки других передач этими, а, возможно, и другими абонентами.\n"
   ]
  },
  {
   "cell_type": "code",
   "execution_count": 1,
   "metadata": {},
   "outputs": [
    {
     "name": "stdout",
     "output_type": "stream",
     "text": [
      "/usr/hdp/current/spark2-client\n",
      "Welcome to\n",
      "      ____              __\n",
      "     / __/__  ___ _____/ /__\n",
      "    _\\ \\/ _ \\/ _ `/ __/  '_/\n",
      "   /__ / .__/\\_,_/_/ /_/\\_\\   version 2.2.0\n",
      "      /_/\n",
      "\n",
      "Using Python version 3.4.3 (default, Nov 17 2016 01:08:31)\n",
      "SparkSession available as 'spark'.\n"
     ]
    }
   ],
   "source": [
    "import os\n",
    "import sys\n",
    "os.environ[\"PYSPARK_SUBMIT_ARGS\"]='--packages com.databricks:spark-csv_2.10:1.2.0 pyspark-shell'\n",
    "os.environ[\"PYSPARK_PYTHON\"]='python3'\n",
    "os.environ[\"SPARK_HOME\"]='/usr/hdp/current/spark2-client'\n",
    "\n",
    "spark_home = os.environ.get('SPARK_HOME', None)\n",
    "print(spark_home)\n",
    "if not spark_home:\n",
    "    raise ValueError('SPARK_HOME environment variable is not set')\n",
    "sys.path.insert(0, os.path.join(spark_home, 'python'))\n",
    "sys.path.insert(0, os.path.join(spark_home, 'python/lib/py4j-0.10.4-src.zip'))\n",
    "os.environ[\"PYSPARK_PYTHON\"] = 'python3'\n",
    "exec(open(os.path.join(spark_home, 'python/pyspark/shell.py')).read())"
   ]
  },
  {
   "cell_type": "code",
   "execution_count": 2,
   "metadata": {},
   "outputs": [
    {
     "data": {
      "text/html": [
       "\n",
       "        <div>\n",
       "            <p><b>SparkContext</b></p>\n",
       "\n",
       "            <p><a href=\"http://10.71.38.30:4078\">Spark UI</a></p>\n",
       "\n",
       "            <dl>\n",
       "              <dt>Version</dt>\n",
       "                <dd><code>v2.2.0</code></dd>\n",
       "              <dt>Master</dt>\n",
       "                <dd><code>yarn</code></dd>\n",
       "              <dt>AppName</dt>\n",
       "                <dd><code>pyspark-shell</code></dd>\n",
       "            </dl>\n",
       "        </div>\n",
       "        "
      ],
      "text/plain": [
       "<SparkContext master=yarn appName=pyspark-shell>"
      ]
     },
     "execution_count": 2,
     "metadata": {},
     "output_type": "execute_result"
    }
   ],
   "source": [
    "sc"
   ]
  },
  {
   "cell_type": "markdown",
   "metadata": {},
   "source": [
    "### Обработка данных на вход\n",
    "\n",
    "Для выполнения работы вам следует взять все файлы из папки на HDFS `/labs/lab10data/`. Давайте посмотрим, что у нас есть:\n",
    "\n",
    "```\n",
    "$ hadoop fs -ls /labs/lab10data\n",
    "Found 4 items\n",
    "-rw-r--r--   3 hdfs hdfs   91066524 2017-05-09 13:51 /labs/lab10data/lab10_items.csv\n",
    "-rw-r--r--   3 hdfs hdfs   29965581 2017-05-09 13:50 /labs/lab10data/lab10_test.csv\n",
    "-rw-r--r--   3 hdfs hdfs   74949368 2017-05-09 13:50 /labs/lab10data/lab10_train.csv\n",
    "-rw-r--r--   3 hdfs hdfs  871302535 2017-05-09 13:51 /labs/lab10data/lab10_views_programmes.csv\n",
    "```\n",
    "* В `lab10_train.csv` содержатся факты покупки (колонка `purchase`) пользователями (колонка `user_id`) телепередач (колонка `item_id`). Такой формат файла вам уже знаком.\n",
    "\n",
    "* `lab10_items.csv` — дополнительные данные по items. В данном файле много лишней или ненужной информации, так что задача её фильтрации и отбора ложится на вас. Поля в файле, на которых хотелось бы остановиться:\n",
    "  * `item_id` — primary key. Соответствует `item_id` в предыдущем файле.\n",
    "  * `content_type` — тип телепередачи (`1` — платная, `0` — бесплатная). Вас интересуют платные передачи.\n",
    "  * `title` — название передачи, текстовое поле.\n",
    "  * `year` — год выпуска передачи, число.\n",
    "  * `genres` — поле с жанрами передачи, разделёнными через запятую.\n",
    "  \n",
    "* `lab10_test.csv` — тестовый датасет без указанного целевого признака `purchase`, который вам и предстоит предсказать.\n",
    "\n",
    "* Дополнительный файл `lab10_views_programmes.csv` по просмотрам передач с полями:\n",
    "  * `ts_start` — время начала просмотра\n",
    "  * `ts_end` — время окончания просмотра\n",
    "  * `item_type`— тип просматриваемого контента:\n",
    "    * `live` — просмотр \"вживую\", в момент показа контента в эфире\n",
    "    * `pvr` — просмотр в записи, после показа контента в эфире"
   ]
  },
  {
   "cell_type": "markdown",
   "metadata": {},
   "source": [
    "### Загружаем и обрабатываем данные\n",
    "#### Факты покупки телепередач"
   ]
  },
  {
   "cell_type": "code",
   "execution_count": 3,
   "metadata": {
    "collapsed": true
   },
   "outputs": [],
   "source": [
    "dfs_train = spark.read.load(\n",
    "    '/labs/lab10data/lab10_train.csv',\n",
    "    format = \"com.databricks.spark.csv\",\n",
    "    header = True\n",
    ")"
   ]
  },
  {
   "cell_type": "code",
   "execution_count": 4,
   "metadata": {},
   "outputs": [
    {
     "data": {
      "text/plain": [
       "5032624"
      ]
     },
     "execution_count": 4,
     "metadata": {},
     "output_type": "execute_result"
    }
   ],
   "source": [
    "dfs_train.count()"
   ]
  },
  {
   "cell_type": "code",
   "execution_count": 5,
   "metadata": {},
   "outputs": [
    {
     "name": "stdout",
     "output_type": "stream",
     "text": [
      "+-------+-------+--------+\n",
      "|user_id|item_id|purchase|\n",
      "+-------+-------+--------+\n",
      "|   1654|  74107|       0|\n",
      "|   1654|  89249|       0|\n",
      "+-------+-------+--------+\n",
      "only showing top 2 rows\n",
      "\n"
     ]
    }
   ],
   "source": [
    "dfs_train.show(2)"
   ]
  },
  {
   "cell_type": "markdown",
   "metadata": {},
   "source": [
    "Все поля имеют строковый тип, поэтому конвертируем в числовой"
   ]
  },
  {
   "cell_type": "code",
   "execution_count": 6,
   "metadata": {},
   "outputs": [],
   "source": [
    "dfs_train_1 = dfs_train.select(\n",
    "    dfs_train.user_id.cast('integer'),\n",
    "    dfs_train.item_id.cast('integer'),\n",
    "    dfs_train.purchase.cast('integer')\n",
    ")"
   ]
  },
  {
   "cell_type": "markdown",
   "metadata": {},
   "source": [
    "Число фактов покупки"
   ]
  },
  {
   "cell_type": "code",
   "execution_count": 7,
   "metadata": {},
   "outputs": [
    {
     "data": {
      "text/plain": [
       "10904"
      ]
     },
     "execution_count": 7,
     "metadata": {},
     "output_type": "execute_result"
    }
   ],
   "source": [
    "dfs_train_1.filter(dfs_train_1.purchase==1).count()"
   ]
  },
  {
   "cell_type": "markdown",
   "metadata": {},
   "source": [
    "#### Описание телепередач"
   ]
  },
  {
   "cell_type": "code",
   "execution_count": 8,
   "metadata": {},
   "outputs": [
    {
     "data": {
      "text/plain": [
       "['item_id\\tchannel_id\\tdatetime_availability_start\\tdatetime_availability_stop\\tdatetime_show_start\\tdatetime_show_stop\\tcontent_type\\ttitle\\tyear\\tgenres\\tregion_id',\n",
       " '65667\\t\\t1970-01-01T00:00:00Z\\t2018-01-01T00:00:00Z\\t\\t\\t1\\tна пробах только девушки (all girl auditions)\\t2013.0\\tЭротика\\t']"
      ]
     },
     "execution_count": 8,
     "metadata": {},
     "output_type": "execute_result"
    }
   ],
   "source": [
    "sc.textFile('/labs/lab10data/lab10_items.csv').take(2)"
   ]
  },
  {
   "cell_type": "code",
   "execution_count": 9,
   "metadata": {},
   "outputs": [],
   "source": [
    "dfs_items = spark.read.format(\n",
    "    \"com.databricks.spark.csv\"\n",
    ").option(\n",
    "    \"delimiter\", \"\\t\"\n",
    ").load(\n",
    "    '/labs/lab10data/lab10_items.csv',\n",
    "    header = True\n",
    ")"
   ]
  },
  {
   "cell_type": "code",
   "execution_count": 10,
   "metadata": {},
   "outputs": [
    {
     "data": {
      "text/plain": [
       "635568"
      ]
     },
     "execution_count": 10,
     "metadata": {},
     "output_type": "execute_result"
    }
   ],
   "source": [
    "dfs_items.count()"
   ]
  },
  {
   "cell_type": "code",
   "execution_count": 11,
   "metadata": {},
   "outputs": [
    {
     "name": "stdout",
     "output_type": "stream",
     "text": [
      "+-------+\n",
      "|item_id|\n",
      "+-------+\n",
      "|  65667|\n",
      "|  65669|\n",
      "+-------+\n",
      "only showing top 2 rows\n",
      "\n"
     ]
    }
   ],
   "source": [
    "dfs_items.select('item_id').show(2)"
   ]
  },
  {
   "cell_type": "markdown",
   "metadata": {},
   "source": [
    "Т.к. нас интересуют только платный контент, то отбрасываем ненужные записи"
   ]
  },
  {
   "cell_type": "code",
   "execution_count": 12,
   "metadata": {},
   "outputs": [],
   "source": [
    "dfs_items_p = dfs_items.filter(dfs_items.content_type == 1)"
   ]
  },
  {
   "cell_type": "markdown",
   "metadata": {},
   "source": [
    "#### Тестовая выборка"
   ]
  },
  {
   "cell_type": "code",
   "execution_count": 13,
   "metadata": {},
   "outputs": [
    {
     "data": {
      "text/plain": [
       "['user_id,item_id,purchase',\n",
       " '1654,94814,',\n",
       " '1654,93629,',\n",
       " '1654,9980,',\n",
       " '1654,95099,']"
      ]
     },
     "execution_count": 13,
     "metadata": {},
     "output_type": "execute_result"
    }
   ],
   "source": [
    "sc.textFile('/labs/lab10data/lab10_test.csv').take(5)"
   ]
  },
  {
   "cell_type": "code",
   "execution_count": 14,
   "metadata": {
    "collapsed": true
   },
   "outputs": [],
   "source": [
    "dfs_test = spark.read.load(\n",
    "    '/labs/lab10data/lab10_test.csv',\n",
    "    format = \"com.databricks.spark.csv\",\n",
    "    header = True\n",
    ")"
   ]
  },
  {
   "cell_type": "markdown",
   "metadata": {},
   "source": [
    "Все поля имеют строковый тип, поэтому конвертируем в числовой"
   ]
  },
  {
   "cell_type": "code",
   "execution_count": 15,
   "metadata": {
    "collapsed": true
   },
   "outputs": [],
   "source": [
    "dfs_test_1 = dfs_test.select(\n",
    "    dfs_test.user_id.cast('integer'),\n",
    "    dfs_test.item_id.cast('integer')\n",
    ")"
   ]
  },
  {
   "cell_type": "code",
   "execution_count": 16,
   "metadata": {},
   "outputs": [
    {
     "name": "stdout",
     "output_type": "stream",
     "text": [
      "+-------+-------+\n",
      "|user_id|item_id|\n",
      "+-------+-------+\n",
      "|   1654|  94814|\n",
      "|   1654|  93629|\n",
      "+-------+-------+\n",
      "only showing top 2 rows\n",
      "\n"
     ]
    }
   ],
   "source": [
    "dfs_test_1.show(2)"
   ]
  },
  {
   "cell_type": "code",
   "execution_count": 17,
   "metadata": {},
   "outputs": [
    {
     "data": {
      "text/plain": [
       "2156840"
      ]
     },
     "execution_count": 17,
     "metadata": {},
     "output_type": "execute_result"
    }
   ],
   "source": [
    "dfs_test_1.count()"
   ]
  },
  {
   "cell_type": "markdown",
   "metadata": {},
   "source": [
    "### Lab10 обучение и предсказание\n",
    "#### Задача будет решаться по методике user-user / item-item коллаборативной фильтрации."
   ]
  },
  {
   "cell_type": "markdown",
   "metadata": {},
   "source": [
    "Алгоритм для создания матриц альтернативных наименьших квадратов "
   ]
  },
  {
   "cell_type": "code",
   "execution_count": 18,
   "metadata": {
    "collapsed": true
   },
   "outputs": [],
   "source": [
    "from pyspark.ml.recommendation import ALS"
   ]
  },
  {
   "cell_type": "code",
   "execution_count": 19,
   "metadata": {},
   "outputs": [],
   "source": [
    "als = ALS(\n",
    "    rank=10,\n",
    "    maxIter=10,\n",
    "    regParam=0.1,\n",
    "    numUserBlocks=10,\n",
    "    numItemBlocks=10,\n",
    "    implicitPrefs=True,\n",
    "    alpha=1.0,\n",
    "    userCol=\"user_id\",\n",
    "    itemCol=\"item_id\",\n",
    "    ratingCol=\"purchase\",\n",
    "    nonnegative=True,\n",
    "    checkpointInterval=10,\n",
    "    intermediateStorageLevel=\"MEMORY_ONLY\",\n",
    "    finalStorageLevel=\"MEMORY_AND_DISK\",\n",
    "    coldStartStrategy=\"nan\"\n",
    ")"
   ]
  },
  {
   "cell_type": "code",
   "execution_count": 20,
   "metadata": {},
   "outputs": [
    {
     "name": "stdout",
     "output_type": "stream",
     "text": [
      "+-------+-------+--------+\n",
      "|user_id|item_id|purchase|\n",
      "+-------+-------+--------+\n",
      "|   1654|  74107|       0|\n",
      "|   1654|  89249|       0|\n",
      "+-------+-------+--------+\n",
      "only showing top 2 rows\n",
      "\n"
     ]
    }
   ],
   "source": [
    "dfs_train_1.show(2)"
   ]
  },
  {
   "cell_type": "markdown",
   "metadata": {},
   "source": [
    "Создаем модель матриц"
   ]
  },
  {
   "cell_type": "code",
   "execution_count": 21,
   "metadata": {},
   "outputs": [],
   "source": [
    "model = als.fit(dfs_train_1)"
   ]
  },
  {
   "cell_type": "code",
   "execution_count": 22,
   "metadata": {},
   "outputs": [
    {
     "name": "stdout",
     "output_type": "stream",
     "text": [
      "+---+--------------------+\n",
      "| id|            features|\n",
      "+---+--------------------+\n",
      "|400|[0.1458877, 0.0, ...|\n",
      "|430|[0.0, 0.03904225,...|\n",
      "+---+--------------------+\n",
      "only showing top 2 rows\n",
      "\n"
     ]
    }
   ],
   "source": [
    "model.itemFactors.show(n=2)"
   ]
  },
  {
   "cell_type": "code",
   "execution_count": 23,
   "metadata": {},
   "outputs": [
    {
     "name": "stdout",
     "output_type": "stream",
     "text": [
      "+------+--------------------+\n",
      "|    id|            features|\n",
      "+------+--------------------+\n",
      "|523860|[0.060222387, 0.0...|\n",
      "|728960|[0.0019146219, 0....|\n",
      "+------+--------------------+\n",
      "only showing top 2 rows\n",
      "\n"
     ]
    }
   ],
   "source": [
    "model.userFactors.show(n=2)"
   ]
  },
  {
   "cell_type": "code",
   "execution_count": 24,
   "metadata": {},
   "outputs": [],
   "source": [
    "predicts = model.transform(dfs_test_1)"
   ]
  },
  {
   "cell_type": "code",
   "execution_count": 25,
   "metadata": {},
   "outputs": [
    {
     "data": {
      "text/plain": [
       "191"
      ]
     },
     "execution_count": 25,
     "metadata": {},
     "output_type": "execute_result"
    }
   ],
   "source": [
    "predicts.filter(predicts.prediction>0.5).count()"
   ]
  },
  {
   "cell_type": "code",
   "execution_count": 26,
   "metadata": {},
   "outputs": [
    {
     "name": "stdout",
     "output_type": "stream",
     "text": [
      "+-------+-------+------------+\n",
      "|user_id|item_id|  prediction|\n",
      "+-------+-------+------------+\n",
      "| 566758|   8389|3.827112E-14|\n",
      "| 816426|   8389|         0.0|\n",
      "| 892290|   8389| 0.020449826|\n",
      "| 903014|   8389|         0.0|\n",
      "| 910897|   8389|  7.44224E-5|\n",
      "+-------+-------+------------+\n",
      "only showing top 5 rows\n",
      "\n"
     ]
    }
   ],
   "source": [
    "predicts.show(5)"
   ]
  },
  {
   "cell_type": "markdown",
   "metadata": {},
   "source": [
    "#### Импортируем данные в Pandas, для подготовки к выводу"
   ]
  },
  {
   "cell_type": "markdown",
   "metadata": {},
   "source": [
    "```\n",
    "Если экспортировать данные в *.csv средствами spark, \n",
    "то файл сохранится в Hadoop, а не в каталоге Jupyther Notebook.\n",
    "\n",
    "Строка ниже делает экспорт в один файл csv в hadoop директорию пользователя.\n",
    "```"
   ]
  },
  {
   "cell_type": "code",
   "execution_count": 27,
   "metadata": {},
   "outputs": [],
   "source": [
    "# %time\n",
    "# predicts.sort(\n",
    "#     'user_id','item_id'\n",
    "# ).withColumnRenamed(\n",
    "#     'prediction', 'purchase'\n",
    "# ).coalesce(1).write.csv(\n",
    "#     'lab10temp.csv', header = True\n",
    "# )"
   ]
  },
  {
   "cell_type": "markdown",
   "metadata": {},
   "source": [
    "```\n",
    "Команда выполнялась около минуты\n",
    "Забираем файл из Hadoop `hadoop fs -get file.csv`\n",
    "Вся процедура требует больше действий и времени\n",
    "```"
   ]
  },
  {
   "cell_type": "code",
   "execution_count": 28,
   "metadata": {},
   "outputs": [],
   "source": [
    "# !head lab10temp.csv/part-00000-1d212bfb-d4e2-4109-9c58-a18f500790cd-c000.csv"
   ]
  },
  {
   "cell_type": "markdown",
   "metadata": {},
   "source": [
    "```\n",
    "Гораздо проще экпортировать в Pandas, \n",
    "который создаст файл *.csv в одной директории с файлом Jupyther Notebook\n",
    "```"
   ]
  },
  {
   "cell_type": "code",
   "execution_count": 29,
   "metadata": {
    "collapsed": true
   },
   "outputs": [],
   "source": [
    "import pandas"
   ]
  },
  {
   "cell_type": "code",
   "execution_count": 30,
   "metadata": {},
   "outputs": [
    {
     "name": "stdout",
     "output_type": "stream",
     "text": [
      "CPU times: user 2 µs, sys: 2 µs, total: 4 µs\n",
      "Wall time: 7.39 µs\n"
     ]
    }
   ],
   "source": [
    "%time\n",
    "df = predicts.sort(\n",
    "    'user_id','item_id'\n",
    ").withColumnRenamed(\n",
    "    'prediction', 'purchase'\n",
    ").toPandas()"
   ]
  },
  {
   "cell_type": "markdown",
   "metadata": {},
   "source": [
    "```\n",
    "Экспорт в Pandas выполняется за схожее время, около минуты,\n",
    "но при этом все можно делать в Notebook и файл сразу готов для последующей обработки\n",
    "```"
   ]
  },
  {
   "cell_type": "code",
   "execution_count": 31,
   "metadata": {},
   "outputs": [
    {
     "data": {
      "text/html": [
       "<div>\n",
       "<style>\n",
       "    .dataframe thead tr:only-child th {\n",
       "        text-align: right;\n",
       "    }\n",
       "\n",
       "    .dataframe thead th {\n",
       "        text-align: left;\n",
       "    }\n",
       "\n",
       "    .dataframe tbody tr th {\n",
       "        vertical-align: top;\n",
       "    }\n",
       "</style>\n",
       "<table border=\"1\" class=\"dataframe\">\n",
       "  <thead>\n",
       "    <tr style=\"text-align: right;\">\n",
       "      <th></th>\n",
       "      <th>user_id</th>\n",
       "      <th>item_id</th>\n",
       "      <th>purchase</th>\n",
       "    </tr>\n",
       "  </thead>\n",
       "  <tbody>\n",
       "    <tr>\n",
       "      <th>0</th>\n",
       "      <td>1654</td>\n",
       "      <td>336</td>\n",
       "      <td>0.000000</td>\n",
       "    </tr>\n",
       "    <tr>\n",
       "      <th>1</th>\n",
       "      <td>1654</td>\n",
       "      <td>678</td>\n",
       "      <td>0.000000</td>\n",
       "    </tr>\n",
       "    <tr>\n",
       "      <th>2</th>\n",
       "      <td>1654</td>\n",
       "      <td>691</td>\n",
       "      <td>0.000000</td>\n",
       "    </tr>\n",
       "    <tr>\n",
       "      <th>3</th>\n",
       "      <td>1654</td>\n",
       "      <td>696</td>\n",
       "      <td>0.000081</td>\n",
       "    </tr>\n",
       "    <tr>\n",
       "      <th>4</th>\n",
       "      <td>1654</td>\n",
       "      <td>763</td>\n",
       "      <td>0.000000</td>\n",
       "    </tr>\n",
       "  </tbody>\n",
       "</table>\n",
       "</div>"
      ],
      "text/plain": [
       "   user_id  item_id  purchase\n",
       "0     1654      336  0.000000\n",
       "1     1654      678  0.000000\n",
       "2     1654      691  0.000000\n",
       "3     1654      696  0.000081\n",
       "4     1654      763  0.000000"
      ]
     },
     "execution_count": 31,
     "metadata": {},
     "output_type": "execute_result"
    }
   ],
   "source": [
    "df.head()"
   ]
  },
  {
   "cell_type": "code",
   "execution_count": 32,
   "metadata": {},
   "outputs": [],
   "source": [
    "# df['purchase'] = df['purchase'] * 2 "
   ]
  },
  {
   "cell_type": "code",
   "execution_count": 33,
   "metadata": {
    "collapsed": true
   },
   "outputs": [],
   "source": [
    "# df.to_csv('lab10s.csv',header=True,index = False)"
   ]
  },
  {
   "cell_type": "code",
   "execution_count": 34,
   "metadata": {},
   "outputs": [
    {
     "name": "stdout",
     "output_type": "stream",
     "text": [
      "user_id,item_id,purchase\r\n",
      "1654,336,0.0\r\n",
      "1654,678,0.0\r\n",
      "1654,691,0.0\r\n",
      "1654,696,0.00022635702043771744\r\n",
      "1654,763,2.1006144379498437e-06\r\n",
      "1654,795,0.006315282080322504\r\n",
      "1654,861,0.0018450797069817781\r\n",
      "1654,1137,0.0003865465405397117\r\n",
      "1654,1159,0.0\r\n"
     ]
    }
   ],
   "source": [
    "!head lab10.csv"
   ]
  },
  {
   "cell_type": "markdown",
   "metadata": {},
   "source": [
    "### Lab10s\n",
    "\n",
    "Для выполнения работы следует взять все файлы из датасета\n",
    "\n",
    "#### Идея решения.\n",
    "```\n",
    "Oбъединить userFeatures и itemFeatures из матриц ALS (als.fit(dfs_train_1)) построчно, \n",
    "согласно записям в dfs_train_1. \n",
    "Затем обучить модель предсказания на этих данных\n",
    "```"
   ]
  },
  {
   "cell_type": "markdown",
   "metadata": {},
   "source": [
    "Выбираем данные и переименовываем колонки различными способами"
   ]
  },
  {
   "cell_type": "code",
   "execution_count": 35,
   "metadata": {},
   "outputs": [],
   "source": [
    "dfs_items_10t = model.itemFactors"
   ]
  },
  {
   "cell_type": "code",
   "execution_count": 36,
   "metadata": {},
   "outputs": [],
   "source": [
    "dfs_items_10 = dfs_items_10t.select(\n",
    "    dfs_items_10t.id.alias('item_id'),\n",
    "    dfs_items_10t.features.alias('items_features')\n",
    ")"
   ]
  },
  {
   "cell_type": "code",
   "execution_count": 37,
   "metadata": {},
   "outputs": [
    {
     "name": "stdout",
     "output_type": "stream",
     "text": [
      "+-------+--------------------+\n",
      "|item_id|      items_features|\n",
      "+-------+--------------------+\n",
      "|    400|[0.1458877, 0.0, ...|\n",
      "|    430|[0.0, 0.03904225,...|\n",
      "|    540|[0.00983421, 0.0,...|\n",
      "|   1320|[0.0, 0.0, 0.0, 0...|\n",
      "|   1870|[0.0, 0.0, 0.0, 0...|\n",
      "+-------+--------------------+\n",
      "only showing top 5 rows\n",
      "\n"
     ]
    }
   ],
   "source": [
    "dfs_items_10.show(5)"
   ]
  },
  {
   "cell_type": "code",
   "execution_count": 38,
   "metadata": {
    "collapsed": true
   },
   "outputs": [],
   "source": [
    "dfs_users_10 = model.userFactors.\\\n",
    "withColumnRenamed(\n",
    "    'id','user_id'\n",
    ").withColumnRenamed(\n",
    "    'features', 'users_features'\n",
    ")"
   ]
  },
  {
   "cell_type": "code",
   "execution_count": 39,
   "metadata": {},
   "outputs": [
    {
     "name": "stdout",
     "output_type": "stream",
     "text": [
      "+-------+--------------------+\n",
      "|user_id|      users_features|\n",
      "+-------+--------------------+\n",
      "| 523860|[0.060222387, 0.0...|\n",
      "| 728960|[0.0019146219, 0....|\n",
      "| 731490|[0.0, 0.0, 0.0, 0...|\n",
      "| 736010|[0.0, 0.0, 0.0, 0...|\n",
      "| 739230|[0.013104609, 0.0...|\n",
      "+-------+--------------------+\n",
      "only showing top 5 rows\n",
      "\n"
     ]
    }
   ],
   "source": [
    "dfs_users_10.show(5)"
   ]
  },
  {
   "cell_type": "markdown",
   "metadata": {},
   "source": [
    "```\n",
    "Теперь необходимо объединить данные в один DataFrame\n",
    "\n",
    "Пример команды:\n",
    "\n",
    "val result = purchase.join(book, purchase(\"isbn\")===book(\"isbn\"))\n",
    "                     .join(customer, customer(\"cid\")===purchase(\"cid\"))\n",
    "                     .where(customer(\"name\") !== \"Harry Smith\")\n",
    "                     .join(temp, purchase(\"isbn\")===temp(\"purchase_isbn\"))\n",
    "                     .select(customer(\"name\").as(\"NAME\")).distinct()\n",
    "```"
   ]
  },
  {
   "cell_type": "code",
   "execution_count": 40,
   "metadata": {
    "collapsed": true
   },
   "outputs": [],
   "source": [
    "res = dfs_train_1.join(\n",
    "    dfs_users_10, on = 'user_id'\n",
    ").join(\n",
    "    dfs_items_10, on = 'item_id'\n",
    ")"
   ]
  },
  {
   "cell_type": "code",
   "execution_count": 41,
   "metadata": {},
   "outputs": [],
   "source": [
    "# res.show(5) \n",
    "# Ядро падает (размер res?) - The kernel appears to have died. It will restart automatically."
   ]
  },
  {
   "cell_type": "markdown",
   "metadata": {},
   "source": [
    "Выбираем необходимые данные и экпортируем в Pandas DataFrame"
   ]
  },
  {
   "cell_type": "code",
   "execution_count": 42,
   "metadata": {},
   "outputs": [],
   "source": [
    "df_l = res.select(\n",
    "    \"users_features\",\n",
    "    \"items_features\", \n",
    "    res.purchase.alias(\"label\")\n",
    "#     \"purchase\"\n",
    ").toPandas()"
   ]
  },
  {
   "cell_type": "code",
   "execution_count": 43,
   "metadata": {},
   "outputs": [
    {
     "data": {
      "text/plain": [
       "5032624"
      ]
     },
     "execution_count": 43,
     "metadata": {},
     "output_type": "execute_result"
    }
   ],
   "source": [
    "len(df_l)"
   ]
  },
  {
   "cell_type": "code",
   "execution_count": 44,
   "metadata": {},
   "outputs": [
    {
     "data": {
      "text/html": [
       "<div>\n",
       "<style>\n",
       "    .dataframe thead tr:only-child th {\n",
       "        text-align: right;\n",
       "    }\n",
       "\n",
       "    .dataframe thead th {\n",
       "        text-align: left;\n",
       "    }\n",
       "\n",
       "    .dataframe tbody tr th {\n",
       "        vertical-align: top;\n",
       "    }\n",
       "</style>\n",
       "<table border=\"1\" class=\"dataframe\">\n",
       "  <thead>\n",
       "    <tr style=\"text-align: right;\">\n",
       "      <th></th>\n",
       "      <th>users_features</th>\n",
       "      <th>items_features</th>\n",
       "      <th>label</th>\n",
       "    </tr>\n",
       "  </thead>\n",
       "  <tbody>\n",
       "    <tr>\n",
       "      <th>0</th>\n",
       "      <td>[0.0, 0.06727000325918198, 0.01982494257390499...</td>\n",
       "      <td>[0.01203246507793665, 0.0, 0.4510206878185272,...</td>\n",
       "      <td>0</td>\n",
       "    </tr>\n",
       "    <tr>\n",
       "      <th>1</th>\n",
       "      <td>[0.0, 0.0, 0.0, 0.0, 0.0, 0.0, 0.5920889973640...</td>\n",
       "      <td>[0.01203246507793665, 0.0, 0.4510206878185272,...</td>\n",
       "      <td>0</td>\n",
       "    </tr>\n",
       "    <tr>\n",
       "      <th>2</th>\n",
       "      <td>[0.0, 0.0, 0.0, 0.004044085741043091, 0.0, 0.0...</td>\n",
       "      <td>[0.01203246507793665, 0.0, 0.4510206878185272,...</td>\n",
       "      <td>0</td>\n",
       "    </tr>\n",
       "    <tr>\n",
       "      <th>3</th>\n",
       "      <td>[0.0, 0.1746845543384552, 0.059792641550302505...</td>\n",
       "      <td>[0.01203246507793665, 0.0, 0.4510206878185272,...</td>\n",
       "      <td>0</td>\n",
       "    </tr>\n",
       "    <tr>\n",
       "      <th>4</th>\n",
       "      <td>[0.18337707221508026, 0.0, 0.0, 0.0, 0.0398551...</td>\n",
       "      <td>[0.01203246507793665, 0.0, 0.4510206878185272,...</td>\n",
       "      <td>0</td>\n",
       "    </tr>\n",
       "  </tbody>\n",
       "</table>\n",
       "</div>"
      ],
      "text/plain": [
       "                                      users_features  \\\n",
       "0  [0.0, 0.06727000325918198, 0.01982494257390499...   \n",
       "1  [0.0, 0.0, 0.0, 0.0, 0.0, 0.0, 0.5920889973640...   \n",
       "2  [0.0, 0.0, 0.0, 0.004044085741043091, 0.0, 0.0...   \n",
       "3  [0.0, 0.1746845543384552, 0.059792641550302505...   \n",
       "4  [0.18337707221508026, 0.0, 0.0, 0.0, 0.0398551...   \n",
       "\n",
       "                                      items_features  label  \n",
       "0  [0.01203246507793665, 0.0, 0.4510206878185272,...      0  \n",
       "1  [0.01203246507793665, 0.0, 0.4510206878185272,...      0  \n",
       "2  [0.01203246507793665, 0.0, 0.4510206878185272,...      0  \n",
       "3  [0.01203246507793665, 0.0, 0.4510206878185272,...      0  \n",
       "4  [0.01203246507793665, 0.0, 0.4510206878185272,...      0  "
      ]
     },
     "execution_count": 44,
     "metadata": {},
     "output_type": "execute_result"
    }
   ],
   "source": [
    "df_l.head()"
   ]
  },
  {
   "cell_type": "markdown",
   "metadata": {},
   "source": [
    "Объединяем данные в одну колонку"
   ]
  },
  {
   "cell_type": "code",
   "execution_count": 45,
   "metadata": {},
   "outputs": [],
   "source": [
    "df_l['features'] = df_l.users_features + df_l.items_features"
   ]
  },
  {
   "cell_type": "markdown",
   "metadata": {},
   "source": [
    "Проверка"
   ]
  },
  {
   "cell_type": "code",
   "execution_count": 46,
   "metadata": {},
   "outputs": [
    {
     "data": {
      "text/plain": [
       "[0.0,\n",
       " 0.0,\n",
       " 0.0,\n",
       " 0.0,\n",
       " 0.0,\n",
       " 0.0,\n",
       " 0.5920889973640442,\n",
       " 0.0,\n",
       " 0.23527215421199799,\n",
       " 0.0,\n",
       " 0.01203246507793665,\n",
       " 0.0,\n",
       " 0.4510206878185272,\n",
       " 0.0,\n",
       " 0.0,\n",
       " 0.07030827552080154,\n",
       " 0.0,\n",
       " 0.0,\n",
       " 0.0,\n",
       " 0.0]"
      ]
     },
     "execution_count": 46,
     "metadata": {},
     "output_type": "execute_result"
    }
   ],
   "source": [
    "df_l.features.iloc[1]"
   ]
  },
  {
   "cell_type": "markdown",
   "metadata": {},
   "source": [
    "Удаляем ненужные колонки"
   ]
  },
  {
   "cell_type": "code",
   "execution_count": 47,
   "metadata": {},
   "outputs": [],
   "source": [
    "del df_l['users_features']\n",
    "del df_l['items_features']"
   ]
  },
  {
   "cell_type": "markdown",
   "metadata": {},
   "source": [
    "Импортируем пакеты для дальнейшей обработки"
   ]
  },
  {
   "cell_type": "code",
   "execution_count": 48,
   "metadata": {
    "collapsed": true
   },
   "outputs": [],
   "source": [
    "import numpy as np\n",
    "from numpy import array, arange, abs as np_abs\n",
    "from numpy.fft import rfft, rfftfreq\n",
    "from numpy.random import uniform\n",
    "from math import sin, pi\n",
    "import matplotlib.pyplot as plt"
   ]
  },
  {
   "cell_type": "code",
   "execution_count": 49,
   "metadata": {},
   "outputs": [],
   "source": [
    "%matplotlib inline\n",
    "import matplotlib.pyplot as plt\n",
    "plt.style.use('ggplot')\n",
    "from sklearn.metrics import mean_squared_error\n",
    "from sklearn.metrics import roc_auc_score"
   ]
  },
  {
   "cell_type": "markdown",
   "metadata": {},
   "source": [
    "```\n",
    "В процессе обучения возникли ошибки, модель требовала 2-D NumPy Array. \n",
    "Подготавливаем данные для подачи на модель.\n",
    "```"
   ]
  },
  {
   "cell_type": "code",
   "execution_count": 50,
   "metadata": {},
   "outputs": [],
   "source": [
    "df_l['f'] = df_l.features.apply(lambda x: array(x))"
   ]
  },
  {
   "cell_type": "markdown",
   "metadata": {},
   "source": [
    "Промежуточно сохраняем данные в файл pickle"
   ]
  },
  {
   "cell_type": "code",
   "execution_count": 51,
   "metadata": {
    "collapsed": true
   },
   "outputs": [],
   "source": [
    "import pickle"
   ]
  },
  {
   "cell_type": "code",
   "execution_count": 52,
   "metadata": {
    "collapsed": true
   },
   "outputs": [],
   "source": [
    "#pickle.dump(df_l, open('df_l.pcl', 'wb'))"
   ]
  },
  {
   "cell_type": "code",
   "execution_count": 53,
   "metadata": {},
   "outputs": [],
   "source": [
    "features = array(list(df_l['f']))\n",
    "# labels = array(df_l['purchase'])\n",
    "labels = array(df_l['label'])"
   ]
  },
  {
   "cell_type": "code",
   "execution_count": 54,
   "metadata": {},
   "outputs": [],
   "source": [
    "# features = array(features)"
   ]
  },
  {
   "cell_type": "code",
   "execution_count": 55,
   "metadata": {},
   "outputs": [
    {
     "data": {
      "text/plain": [
       "array([[ 0.        ,  0.06727   ,  0.01982494,  0.        ,  0.        ,\n",
       "         0.16856602,  0.        ,  0.02323883,  0.        ,  0.        ,\n",
       "         0.01203247,  0.        ,  0.45102069,  0.        ,  0.        ,\n",
       "         0.07030828,  0.        ,  0.        ,  0.        ,  0.        ],\n",
       "       [ 0.        ,  0.        ,  0.        ,  0.        ,  0.        ,\n",
       "         0.        ,  0.592089  ,  0.        ,  0.23527215,  0.        ,\n",
       "         0.01203247,  0.        ,  0.45102069,  0.        ,  0.        ,\n",
       "         0.07030828,  0.        ,  0.        ,  0.        ,  0.        ]])"
      ]
     },
     "execution_count": 55,
     "metadata": {},
     "output_type": "execute_result"
    }
   ],
   "source": [
    "features[:2]"
   ]
  },
  {
   "cell_type": "code",
   "execution_count": 56,
   "metadata": {},
   "outputs": [
    {
     "data": {
      "text/plain": [
       "(5032624, 20)"
      ]
     },
     "execution_count": 56,
     "metadata": {},
     "output_type": "execute_result"
    }
   ],
   "source": [
    "features.shape"
   ]
  },
  {
   "cell_type": "markdown",
   "metadata": {},
   "source": [
    "Нарезаем features и labels для обучения"
   ]
  },
  {
   "cell_type": "code",
   "execution_count": 57,
   "metadata": {},
   "outputs": [
    {
     "name": "stderr",
     "output_type": "stream",
     "text": [
      "/usr/local/lib/python3.4/dist-packages/sklearn/cross_validation.py:44: DeprecationWarning: This module was deprecated in version 0.18 in favor of the model_selection module into which all the refactored classes and functions are moved. Also note that the interface of the new CV iterators are different from that of this module. This module will be removed in 0.20.\n",
      "  \"This module will be removed in 0.20.\", DeprecationWarning)\n"
     ]
    }
   ],
   "source": [
    "from sklearn.cross_validation import train_test_split\n",
    "#features = array(feature_l)\n",
    "#labels =array(label_l)\n",
    "train_features, test_features, train_labels, test_labels =train_test_split(features,labels,test_size = 0.10)"
   ]
  },
  {
   "cell_type": "code",
   "execution_count": 58,
   "metadata": {},
   "outputs": [
    {
     "data": {
      "text/plain": [
       "array([[  0.00000000e+00,   0.00000000e+00,   0.00000000e+00,\n",
       "          4.52955673e-03,   0.00000000e+00,   0.00000000e+00,\n",
       "          2.99852784e-03,   3.27293389e-02,   7.82879535e-03,\n",
       "          1.97399218e-04,   0.00000000e+00,   0.00000000e+00,\n",
       "          0.00000000e+00,   0.00000000e+00,   0.00000000e+00,\n",
       "          0.00000000e+00,   0.00000000e+00,   0.00000000e+00,\n",
       "          0.00000000e+00,   0.00000000e+00],\n",
       "       [  0.00000000e+00,   0.00000000e+00,   0.00000000e+00,\n",
       "          0.00000000e+00,   0.00000000e+00,   0.00000000e+00,\n",
       "          1.98770076e-01,   0.00000000e+00,   0.00000000e+00,\n",
       "          0.00000000e+00,   0.00000000e+00,   0.00000000e+00,\n",
       "          2.44808700e-02,   0.00000000e+00,   0.00000000e+00,\n",
       "          0.00000000e+00,   0.00000000e+00,   0.00000000e+00,\n",
       "          0.00000000e+00,   0.00000000e+00]])"
      ]
     },
     "execution_count": 58,
     "metadata": {},
     "output_type": "execute_result"
    }
   ],
   "source": [
    "train_features[:2]"
   ]
  },
  {
   "cell_type": "code",
   "execution_count": 59,
   "metadata": {},
   "outputs": [
    {
     "data": {
      "text/plain": [
       "array([0, 0, 0, 0, 0, 0, 0, 0, 0, 0, 0, 1, 0, 0, 0, 0, 0, 0, 0, 0])"
      ]
     },
     "execution_count": 59,
     "metadata": {},
     "output_type": "execute_result"
    }
   ],
   "source": [
    "labels[:20]"
   ]
  },
  {
   "cell_type": "markdown",
   "metadata": {},
   "source": [
    "Импорт для \"простыни\" обучения "
   ]
  },
  {
   "cell_type": "code",
   "execution_count": 60,
   "metadata": {},
   "outputs": [],
   "source": [
    "from sklearn.linear_model import Ridge\n",
    "from sklearn.kernel_ridge import KernelRidge\n",
    "from sklearn.linear_model import LogisticRegression\n",
    "from sklearn.linear_model import BayesianRidge\n",
    "from sklearn.linear_model import ElasticNet\n",
    "from sklearn.naive_bayes import GaussianNB\n",
    "from sklearn.neighbors import KNeighborsRegressor\n",
    "from sklearn.svm import SVR\n",
    "import xgboost\n",
    "from sklearn.ensemble import RandomForestClassifier\n",
    "from sklearn.ensemble import RandomForestRegressor"
   ]
  },
  {
   "cell_type": "markdown",
   "metadata": {},
   "source": [
    "Сама \"простыня\", куда отдаем train_features, test_features, train_labels, test_labels"
   ]
  },
  {
   "cell_type": "code",
   "execution_count": 61,
   "metadata": {},
   "outputs": [
    {
     "name": "stdout",
     "output_type": "stream",
     "text": [
      "0.00211981620703 0.00203635825203 0.884123895984\n"
     ]
    },
    {
     "data": {
      "text/plain": [
       "<matplotlib.legend.Legend at 0x7fe06e8afeb8>"
      ]
     },
     "execution_count": 61,
     "metadata": {},
     "output_type": "execute_result"
    },
    {
     "data": {
      "image/png": "[encoded data removed]",
      "text/plain": [
       "<matplotlib.figure.Figure at 0x7fdf3b97ae10>"
      ]
     },
     "metadata": {},
     "output_type": "display_data"
    }
   ],
   "source": [
    "#estimators_range = [(i+1)*3 for i in range(20)]\n",
    "estimators_range=[10]#,20,30,50\n",
    "train_errors = []\n",
    "test_errors = []\n",
    "roc_auc = []\n",
    "depth_range=[50]\n",
    "estimators = 0\n",
    "for estimators in estimators_range:\n",
    "    for depth in depth_range:\n",
    "        #model_forest = RandomForestRegressor(n_estimators = estimators,  min_samples_leaf=5)\n",
    "        #model= RandomForestRegressor(n_estimators = estimators)\n",
    "        #model = xgboost.XGBRegressor(n_estimators = estimators,nthread= 24,max_depth = 5)\n",
    "        ##model = LogisticRegression(solver = 'lbfgs',n_jobs = -1)\n",
    "        model = Ridge()\n",
    "        model.fit(train_features, train_labels)\n",
    "        train_predicted_labels = model.predict(train_features)\n",
    "\n",
    "        test_predicted_labels = model.predict(test_features)\n",
    "\n",
    "        train_errors.append(mean_squared_error(train_labels,train_predicted_labels))\n",
    "        test_errors.append(mean_squared_error(test_labels,test_predicted_labels))\n",
    "        roc_auc.append(roc_auc_score(test_labels,test_predicted_labels))\n",
    "        #train_errors.append(mod_error(train_labels,train_predicted_labels))\n",
    "        #test_errors.append(mod_error(test_labels,test_predicted_labels))\n",
    "        forest_train_errors = train_errors[-1]\n",
    "        forest_test_errors = test_errors[-1]\n",
    "        print(forest_train_errors,forest_test_errors,roc_auc[-1])\n",
    "plt.plot(estimators_range, train_errors,label = 'Train')\n",
    "plt.plot(estimators_range, test_errors,label = 'Test')\n",
    "#plt.plot(depth_range, train_errors,label = 'Train')\n",
    "#plt.plot(depth_range, test_errors,label = 'Test')\n",
    "plt.xlabel('estimators')\n",
    "plt.ylabel('MSE')\n",
    "plt.legend()"
   ]
  },
  {
   "cell_type": "markdown",
   "metadata": {},
   "source": [
    "```\n",
    "Подготавливаем тестовую выборку для подачи обученной модели\n",
    "Объединяем userFeatures и itemFeatures из матриц ALS (als.fit(dfs_train_1)) построчно, \n",
    "согласно записям в dfs_test_1\n",
    "```"
   ]
  },
  {
   "cell_type": "code",
   "execution_count": 62,
   "metadata": {},
   "outputs": [
    {
     "name": "stdout",
     "output_type": "stream",
     "text": [
      "+-------+-------+\n",
      "|user_id|item_id|\n",
      "+-------+-------+\n",
      "|   1654|  94814|\n",
      "|   1654|  93629|\n",
      "|   1654|   9980|\n",
      "|   1654|  95099|\n",
      "|   1654|  11265|\n",
      "+-------+-------+\n",
      "only showing top 5 rows\n",
      "\n"
     ]
    }
   ],
   "source": [
    "dfs_test_1.show(5)"
   ]
  },
  {
   "cell_type": "code",
   "execution_count": 63,
   "metadata": {},
   "outputs": [],
   "source": [
    "predict_sample = dfs_test_1.join(\n",
    "    dfs_users_10, on = 'user_id'\n",
    ").join(\n",
    "    dfs_items_10, on = 'item_id'\n",
    ")"
   ]
  },
  {
   "cell_type": "markdown",
   "metadata": {},
   "source": [
    "Экспорт в Pandas и подготовка, аналогично обучающей выборке"
   ]
  },
  {
   "cell_type": "code",
   "execution_count": 64,
   "metadata": {},
   "outputs": [],
   "source": [
    "df_t = predict_sample.select(\n",
    "    'user_id',\n",
    "    'item_id',\n",
    "    'users_features',\n",
    "    'items_features'\n",
    ").toPandas()"
   ]
  },
  {
   "cell_type": "code",
   "execution_count": 65,
   "metadata": {
    "collapsed": true
   },
   "outputs": [],
   "source": [
    "df_t['features'] = df_t.users_features + df_t.items_features"
   ]
  },
  {
   "cell_type": "code",
   "execution_count": 66,
   "metadata": {
    "collapsed": true
   },
   "outputs": [],
   "source": [
    "features_for_pred = array(list(df_t['features']))"
   ]
  },
  {
   "cell_type": "code",
   "execution_count": 67,
   "metadata": {
    "collapsed": true
   },
   "outputs": [],
   "source": [
    "# features_for_pred = array(features_for_pred) # убрать"
   ]
  },
  {
   "cell_type": "code",
   "execution_count": 68,
   "metadata": {},
   "outputs": [
    {
     "data": {
      "text/plain": [
       "array([[ 0.06022239,  0.02555084,  0.06670896,  0.2060701 ,  0.        ,\n",
       "         0.        ,  0.        ,  0.05177906,  0.13314976,  0.0166776 ,\n",
       "         0.01203247,  0.        ,  0.45102069,  0.        ,  0.        ,\n",
       "         0.07030828,  0.        ,  0.        ,  0.        ,  0.        ]])"
      ]
     },
     "execution_count": 68,
     "metadata": {},
     "output_type": "execute_result"
    }
   ],
   "source": [
    "features_for_pred[:1]"
   ]
  },
  {
   "cell_type": "markdown",
   "metadata": {},
   "source": [
    "Собственно само предсказание"
   ]
  },
  {
   "cell_type": "code",
   "execution_count": 69,
   "metadata": {
    "collapsed": true
   },
   "outputs": [],
   "source": [
    "pred_list = model.predict(features_for_pred)"
   ]
  },
  {
   "cell_type": "code",
   "execution_count": 70,
   "metadata": {},
   "outputs": [
    {
     "data": {
      "text/plain": [
       "array([ 0.01070662,  0.00147579,  0.00246144, ..., -0.00178058,\n",
       "       -0.00208625, -0.00264005])"
      ]
     },
     "execution_count": 70,
     "metadata": {},
     "output_type": "execute_result"
    }
   ],
   "source": [
    "pred_list"
   ]
  },
  {
   "cell_type": "markdown",
   "metadata": {},
   "source": [
    "Создаем итоговый DataFrame"
   ]
  },
  {
   "cell_type": "code",
   "execution_count": 71,
   "metadata": {
    "collapsed": true
   },
   "outputs": [],
   "source": [
    "df_t['purchase'] = pred_list"
   ]
  },
  {
   "cell_type": "code",
   "execution_count": 72,
   "metadata": {},
   "outputs": [],
   "source": [
    "df_t_final = df_t[['user_id','item_id','purchase']]"
   ]
  },
  {
   "cell_type": "code",
   "execution_count": 73,
   "metadata": {},
   "outputs": [
    {
     "name": "stderr",
     "output_type": "stream",
     "text": [
      "/usr/local/lib/python3.4/dist-packages/ipykernel/__main__.py:1: SettingWithCopyWarning: \n",
      "A value is trying to be set on a copy of a slice from a DataFrame\n",
      "\n",
      "See the caveats in the documentation: http://pandas.pydata.org/pandas-docs/stable/indexing.html#indexing-view-versus-copy\n",
      "  if __name__ == '__main__':\n"
     ]
    }
   ],
   "source": [
    "df_t_final.sort_values(['user_id','item_id'], inplace = True) # переделать, что бы Pandas не ругался"
   ]
  },
  {
   "cell_type": "code",
   "execution_count": 74,
   "metadata": {
    "collapsed": true
   },
   "outputs": [],
   "source": [
    "# df_t_final.to_csv('lab10s.csv',header=True,index = False)"
   ]
  },
  {
   "cell_type": "code",
   "execution_count": 75,
   "metadata": {},
   "outputs": [
    {
     "name": "stdout",
     "output_type": "stream",
     "text": [
      "user_id,item_id,purchase\r\n",
      "1654,336,0.013781219720840454\r\n",
      "1654,678,0.013781219720840454\r\n",
      "1654,691,0.013781219720840454\r\n",
      "1654,696,0.013840049505233765\r\n",
      "1654,763,0.01366087794303894\r\n",
      "1654,795,0.016765624284744263\r\n",
      "1654,861,0.017134785652160645\r\n",
      "1654,1137,0.013896673917770386\r\n",
      "1654,1159,0.013756901025772095\r\n"
     ]
    }
   ],
   "source": [
    "!head lab10s.csv"
   ]
  },
  {
   "cell_type": "code",
   "execution_count": null,
   "metadata": {
    "collapsed": true
   },
   "outputs": [],
   "source": []
  }
 ],
 "metadata": {
  "kernelspec": {
   "display_name": "Python 3",
   "language": "python",
   "name": "python3"
  },
  "language_info": {
   "codemirror_mode": {
    "name": "ipython",
    "version": 3
   },
   "file_extension": ".py",
   "mimetype": "text/x-python",
   "name": "python",
   "nbconvert_exporter": "python",
   "pygments_lexer": "ipython3",
   "version": "3.5.2"
  }
 },
 "nbformat": 4,
 "nbformat_minor": 2
}
